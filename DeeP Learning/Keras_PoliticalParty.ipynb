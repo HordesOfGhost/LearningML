{
 "cells": [
  {
   "cell_type": "code",
   "execution_count": 2,
   "metadata": {},
   "outputs": [
    {
     "data": {
      "text/html": [
       "<div>\n",
       "<style scoped>\n",
       "    .dataframe tbody tr th:only-of-type {\n",
       "        vertical-align: middle;\n",
       "    }\n",
       "\n",
       "    .dataframe tbody tr th {\n",
       "        vertical-align: top;\n",
       "    }\n",
       "\n",
       "    .dataframe thead th {\n",
       "        text-align: right;\n",
       "    }\n",
       "</style>\n",
       "<table border=\"1\" class=\"dataframe\">\n",
       "  <thead>\n",
       "    <tr style=\"text-align: right;\">\n",
       "      <th></th>\n",
       "      <th>party</th>\n",
       "      <th>handicapped-infants</th>\n",
       "      <th>water-project-cost-sharing</th>\n",
       "      <th>adoption-of-the-budget-resolution</th>\n",
       "      <th>physician-fee-freeze</th>\n",
       "      <th>el-salvador-aid</th>\n",
       "      <th>religious-groups-in-schools</th>\n",
       "      <th>anti-satellite-test-ban</th>\n",
       "      <th>aid-to-nicaraguan-contras</th>\n",
       "      <th>mx-missle</th>\n",
       "      <th>immigration</th>\n",
       "      <th>synfuels-corporation-cutback</th>\n",
       "      <th>education-spending</th>\n",
       "      <th>superfund-right-to-sue</th>\n",
       "      <th>crime</th>\n",
       "      <th>duty-free-exports</th>\n",
       "      <th>export-administration-act-south-africa</th>\n",
       "    </tr>\n",
       "  </thead>\n",
       "  <tbody>\n",
       "    <tr>\n",
       "      <th>0</th>\n",
       "      <td>republican</td>\n",
       "      <td>n</td>\n",
       "      <td>y</td>\n",
       "      <td>n</td>\n",
       "      <td>y</td>\n",
       "      <td>y</td>\n",
       "      <td>y</td>\n",
       "      <td>n</td>\n",
       "      <td>n</td>\n",
       "      <td>n</td>\n",
       "      <td>y</td>\n",
       "      <td>NaN</td>\n",
       "      <td>y</td>\n",
       "      <td>y</td>\n",
       "      <td>y</td>\n",
       "      <td>n</td>\n",
       "      <td>y</td>\n",
       "    </tr>\n",
       "    <tr>\n",
       "      <th>1</th>\n",
       "      <td>republican</td>\n",
       "      <td>n</td>\n",
       "      <td>y</td>\n",
       "      <td>n</td>\n",
       "      <td>y</td>\n",
       "      <td>y</td>\n",
       "      <td>y</td>\n",
       "      <td>n</td>\n",
       "      <td>n</td>\n",
       "      <td>n</td>\n",
       "      <td>n</td>\n",
       "      <td>n</td>\n",
       "      <td>y</td>\n",
       "      <td>y</td>\n",
       "      <td>y</td>\n",
       "      <td>n</td>\n",
       "      <td>NaN</td>\n",
       "    </tr>\n",
       "    <tr>\n",
       "      <th>2</th>\n",
       "      <td>democrat</td>\n",
       "      <td>NaN</td>\n",
       "      <td>y</td>\n",
       "      <td>y</td>\n",
       "      <td>NaN</td>\n",
       "      <td>y</td>\n",
       "      <td>y</td>\n",
       "      <td>n</td>\n",
       "      <td>n</td>\n",
       "      <td>n</td>\n",
       "      <td>n</td>\n",
       "      <td>y</td>\n",
       "      <td>n</td>\n",
       "      <td>y</td>\n",
       "      <td>y</td>\n",
       "      <td>n</td>\n",
       "      <td>n</td>\n",
       "    </tr>\n",
       "    <tr>\n",
       "      <th>3</th>\n",
       "      <td>democrat</td>\n",
       "      <td>n</td>\n",
       "      <td>y</td>\n",
       "      <td>y</td>\n",
       "      <td>n</td>\n",
       "      <td>NaN</td>\n",
       "      <td>y</td>\n",
       "      <td>n</td>\n",
       "      <td>n</td>\n",
       "      <td>n</td>\n",
       "      <td>n</td>\n",
       "      <td>y</td>\n",
       "      <td>n</td>\n",
       "      <td>y</td>\n",
       "      <td>n</td>\n",
       "      <td>n</td>\n",
       "      <td>y</td>\n",
       "    </tr>\n",
       "    <tr>\n",
       "      <th>4</th>\n",
       "      <td>democrat</td>\n",
       "      <td>y</td>\n",
       "      <td>y</td>\n",
       "      <td>y</td>\n",
       "      <td>n</td>\n",
       "      <td>y</td>\n",
       "      <td>y</td>\n",
       "      <td>n</td>\n",
       "      <td>n</td>\n",
       "      <td>n</td>\n",
       "      <td>n</td>\n",
       "      <td>y</td>\n",
       "      <td>NaN</td>\n",
       "      <td>y</td>\n",
       "      <td>y</td>\n",
       "      <td>y</td>\n",
       "      <td>y</td>\n",
       "    </tr>\n",
       "  </tbody>\n",
       "</table>\n",
       "</div>"
      ],
      "text/plain": [
       "        party  ... export-administration-act-south-africa\n",
       "0  republican  ...                                      y\n",
       "1  republican  ...                                    NaN\n",
       "2    democrat  ...                                      n\n",
       "3    democrat  ...                                      y\n",
       "4    democrat  ...                                      y\n",
       "\n",
       "[5 rows x 17 columns]"
      ]
     },
     "execution_count": 2,
     "metadata": {},
     "output_type": "execute_result"
    }
   ],
   "source": [
    "#importing\n",
    "import pandas as pd\n",
    "\n",
    "feature_names =  ['party','handicapped-infants', 'water-project-cost-sharing', \n",
    "                    'adoption-of-the-budget-resolution', 'physician-fee-freeze',\n",
    "                    'el-salvador-aid', 'religious-groups-in-schools',\n",
    "                    'anti-satellite-test-ban', 'aid-to-nicaraguan-contras',\n",
    "                    'mx-missle', 'immigration', 'synfuels-corporation-cutback',\n",
    "                    'education-spending', 'superfund-right-to-sue', 'crime',\n",
    "                    'duty-free-exports', 'export-administration-act-south-africa']\n",
    "\n",
    "voting_data = pd.read_csv('house-votes-84.data.txt', na_values=['?'],names=feature_names)\n",
    "\n",
    "voting_data.head()"
   ]
  },
  {
   "cell_type": "code",
   "execution_count": 3,
   "metadata": {},
   "outputs": [
    {
     "data": {
      "text/html": [
       "<div>\n",
       "<style scoped>\n",
       "    .dataframe tbody tr th:only-of-type {\n",
       "        vertical-align: middle;\n",
       "    }\n",
       "\n",
       "    .dataframe tbody tr th {\n",
       "        vertical-align: top;\n",
       "    }\n",
       "\n",
       "    .dataframe thead th {\n",
       "        text-align: right;\n",
       "    }\n",
       "</style>\n",
       "<table border=\"1\" class=\"dataframe\">\n",
       "  <thead>\n",
       "    <tr style=\"text-align: right;\">\n",
       "      <th></th>\n",
       "      <th>party</th>\n",
       "      <th>handicapped-infants</th>\n",
       "      <th>water-project-cost-sharing</th>\n",
       "      <th>adoption-of-the-budget-resolution</th>\n",
       "      <th>physician-fee-freeze</th>\n",
       "      <th>el-salvador-aid</th>\n",
       "      <th>religious-groups-in-schools</th>\n",
       "      <th>anti-satellite-test-ban</th>\n",
       "      <th>aid-to-nicaraguan-contras</th>\n",
       "      <th>mx-missle</th>\n",
       "      <th>immigration</th>\n",
       "      <th>synfuels-corporation-cutback</th>\n",
       "      <th>education-spending</th>\n",
       "      <th>superfund-right-to-sue</th>\n",
       "      <th>crime</th>\n",
       "      <th>duty-free-exports</th>\n",
       "      <th>export-administration-act-south-africa</th>\n",
       "    </tr>\n",
       "  </thead>\n",
       "  <tbody>\n",
       "    <tr>\n",
       "      <th>count</th>\n",
       "      <td>435</td>\n",
       "      <td>423</td>\n",
       "      <td>387</td>\n",
       "      <td>424</td>\n",
       "      <td>424</td>\n",
       "      <td>420</td>\n",
       "      <td>424</td>\n",
       "      <td>421</td>\n",
       "      <td>420</td>\n",
       "      <td>413</td>\n",
       "      <td>428</td>\n",
       "      <td>414</td>\n",
       "      <td>404</td>\n",
       "      <td>410</td>\n",
       "      <td>418</td>\n",
       "      <td>407</td>\n",
       "      <td>331</td>\n",
       "    </tr>\n",
       "    <tr>\n",
       "      <th>unique</th>\n",
       "      <td>2</td>\n",
       "      <td>2</td>\n",
       "      <td>2</td>\n",
       "      <td>2</td>\n",
       "      <td>2</td>\n",
       "      <td>2</td>\n",
       "      <td>2</td>\n",
       "      <td>2</td>\n",
       "      <td>2</td>\n",
       "      <td>2</td>\n",
       "      <td>2</td>\n",
       "      <td>2</td>\n",
       "      <td>2</td>\n",
       "      <td>2</td>\n",
       "      <td>2</td>\n",
       "      <td>2</td>\n",
       "      <td>2</td>\n",
       "    </tr>\n",
       "    <tr>\n",
       "      <th>top</th>\n",
       "      <td>democrat</td>\n",
       "      <td>n</td>\n",
       "      <td>y</td>\n",
       "      <td>y</td>\n",
       "      <td>n</td>\n",
       "      <td>y</td>\n",
       "      <td>y</td>\n",
       "      <td>y</td>\n",
       "      <td>y</td>\n",
       "      <td>y</td>\n",
       "      <td>y</td>\n",
       "      <td>n</td>\n",
       "      <td>n</td>\n",
       "      <td>y</td>\n",
       "      <td>y</td>\n",
       "      <td>n</td>\n",
       "      <td>y</td>\n",
       "    </tr>\n",
       "    <tr>\n",
       "      <th>freq</th>\n",
       "      <td>267</td>\n",
       "      <td>236</td>\n",
       "      <td>195</td>\n",
       "      <td>253</td>\n",
       "      <td>247</td>\n",
       "      <td>212</td>\n",
       "      <td>272</td>\n",
       "      <td>239</td>\n",
       "      <td>242</td>\n",
       "      <td>207</td>\n",
       "      <td>216</td>\n",
       "      <td>264</td>\n",
       "      <td>233</td>\n",
       "      <td>209</td>\n",
       "      <td>248</td>\n",
       "      <td>233</td>\n",
       "      <td>269</td>\n",
       "    </tr>\n",
       "  </tbody>\n",
       "</table>\n",
       "</div>"
      ],
      "text/plain": [
       "           party  ... export-administration-act-south-africa\n",
       "count        435  ...                                    331\n",
       "unique         2  ...                                      2\n",
       "top     democrat  ...                                      y\n",
       "freq         267  ...                                    269\n",
       "\n",
       "[4 rows x 17 columns]"
      ]
     },
     "execution_count": 3,
     "metadata": {},
     "output_type": "execute_result"
    }
   ],
   "source": [
    "#voting_data.rename(columns={'republican':'party','n':'handicapped-infants','y':'water-project-cost-sharing','n.1':'adoption-of-the-budget-resolution','y.1':'physician-fee-freeze','y.2':'el-salvador-aid','y.3':'religious-groups-in-schools',\n",
    " #                           'n.2':'anti-satellite-test-ban','n.3':'aid-to-nicaraguan-contras','n.4': 'mx-missle','y.4':'immigration','?':'synfuels-corporation-cutback','y.5':'education-spending',\n",
    "  #                          'y.6':'superfund-right-to-sue','y.7':'crime','n.5':'duty-free-exports','y.8':'export-administration-act-south-africa'},inplace=True)\n",
    "voting_data.describe()"
   ]
  },
  {
   "cell_type": "code",
   "execution_count": 4,
   "metadata": {},
   "outputs": [],
   "source": [
    "voting_data.dropna(inplace=True)\n",
    "voting_data.isna().sum()\n",
    "voting_data.reset_index(drop=True, inplace=True)\n",
    "#print(voting_data['party'][0])"
   ]
  },
  {
   "cell_type": "code",
   "execution_count": 5,
   "metadata": {},
   "outputs": [],
   "source": [
    "voting_data.replace(('y','n'),(1,0),inplace=True)\n",
    "voting_data.replace(('democrat','republican'),(1,0),inplace=True)"
   ]
  },
  {
   "cell_type": "code",
   "execution_count": 6,
   "metadata": {},
   "outputs": [
    {
     "name": "stdout",
     "output_type": "stream",
     "text": [
      "<class 'pandas.core.frame.DataFrame'>\n",
      "RangeIndex: 232 entries, 0 to 231\n",
      "Data columns (total 17 columns):\n",
      " #   Column                                  Non-Null Count  Dtype\n",
      "---  ------                                  --------------  -----\n",
      " 0   party                                   232 non-null    int64\n",
      " 1   handicapped-infants                     232 non-null    int64\n",
      " 2   water-project-cost-sharing              232 non-null    int64\n",
      " 3   adoption-of-the-budget-resolution       232 non-null    int64\n",
      " 4   physician-fee-freeze                    232 non-null    int64\n",
      " 5   el-salvador-aid                         232 non-null    int64\n",
      " 6   religious-groups-in-schools             232 non-null    int64\n",
      " 7   anti-satellite-test-ban                 232 non-null    int64\n",
      " 8   aid-to-nicaraguan-contras               232 non-null    int64\n",
      " 9   mx-missle                               232 non-null    int64\n",
      " 10  immigration                             232 non-null    int64\n",
      " 11  synfuels-corporation-cutback            232 non-null    int64\n",
      " 12  education-spending                      232 non-null    int64\n",
      " 13  superfund-right-to-sue                  232 non-null    int64\n",
      " 14  crime                                   232 non-null    int64\n",
      " 15  duty-free-exports                       232 non-null    int64\n",
      " 16  export-administration-act-south-africa  232 non-null    int64\n",
      "dtypes: int64(17)\n",
      "memory usage: 30.9 KB\n"
     ]
    },
    {
     "data": {
      "text/plain": [
       "party                                     0\n",
       "handicapped-infants                       0\n",
       "water-project-cost-sharing                0\n",
       "adoption-of-the-budget-resolution         0\n",
       "physician-fee-freeze                      0\n",
       "el-salvador-aid                           0\n",
       "religious-groups-in-schools               0\n",
       "anti-satellite-test-ban                   0\n",
       "aid-to-nicaraguan-contras                 0\n",
       "mx-missle                                 0\n",
       "immigration                               0\n",
       "synfuels-corporation-cutback              0\n",
       "education-spending                        0\n",
       "superfund-right-to-sue                    0\n",
       "crime                                     0\n",
       "duty-free-exports                         0\n",
       "export-administration-act-south-africa    0\n",
       "dtype: int64"
      ]
     },
     "execution_count": 6,
     "metadata": {},
     "output_type": "execute_result"
    }
   ],
   "source": [
    "voting_data.info()\n",
    "voting_data.isna().sum()"
   ]
  },
  {
   "cell_type": "code",
   "execution_count": 1,
   "metadata": {},
   "outputs": [],
   "source": [
    "from Detailed_Details import Detailed_Details"
   ]
  },
  {
   "cell_type": "code",
   "execution_count": 11,
   "metadata": {},
   "outputs": [
    {
     "data": {
      "text/html": [
       "<h3><center>Comparing handicapped-infants With party</center></h3>Total Features 232  <br><center><table cellpadding=15><tr><td>handicapped-infants</td> <td>Total No. (handicapped-infants)</td> <td> Percentage (handicapped-infants) </td><td>Total party<br>(0)</td> <td>Percentage party<br>(0)</td> <td>Total party<br>(1)</td> <td>Percentage party<br>(1)</td> </tr><tr><td></center>0</center></td><td>136</td><td>58.62%</td><td>85</td><td>62.5%</td><td>51</td><td>37.5%</td></tr><tr><td></center>1</center></td><td>96</td><td>41.38%</td><td>23</td><td>23.96%</td><td>73</td><td>76.04%</td></tr><table></center>"
      ],
      "text/plain": [
       "<IPython.core.display.HTML object>"
      ]
     },
     "metadata": {},
     "output_type": "display_data"
    }
   ],
   "source": [
    "Detailed_Details(voting_data,'handicapped-infants','party',2)"
   ]
  },
  {
   "cell_type": "code",
   "execution_count": 16,
   "metadata": {},
   "outputs": [],
   "source": [
    "#import\n",
    "\n",
    "from tensorflow import keras\n",
    "from tensorflow.keras.models import Sequential #quickway to assemble the neural network\n",
    "from tensorflow.keras.layers import Dense,Dropout #add some new things to NN to prevent overfitting\n",
    "from sklearn.model_selection import cross_val_score\n",
    "\n",
    "from tensorflow.keras.wrappers.scikit_learn import KerasClassifier\n",
    "\n"
   ]
  },
  {
   "cell_type": "code",
   "execution_count": 13,
   "metadata": {},
   "outputs": [
    {
     "data": {
      "text/plain": [
       "handicapped-infants                       0.380551\n",
       "water-project-cost-sharing               -0.020622\n",
       "adoption-of-the-budget-resolution         0.697041\n",
       "physician-fee-freeze                     -0.940424\n",
       "el-salvador-aid                          -0.754347\n",
       "religious-groups-in-schools              -0.444158\n",
       "anti-satellite-test-ban                   0.497611\n",
       "aid-to-nicaraguan-contras                 0.681100\n",
       "mx-missle                                 0.650100\n",
       "immigration                              -0.041941\n",
       "synfuels-corporation-cutback              0.367992\n",
       "education-spending                       -0.722820\n",
       "superfund-right-to-sue                   -0.553449\n",
       "crime                                    -0.660487\n",
       "duty-free-exports                         0.501571\n",
       "export-administration-act-south-africa    0.355428\n",
       "dtype: float64"
      ]
     },
     "execution_count": 13,
     "metadata": {},
     "output_type": "execute_result"
    }
   ],
   "source": [
    "df_comp=voting_data.iloc[:,voting_data.columns!='party']\n",
    "df_comp.corrwith(voting_data['party'])"
   ]
  },
  {
   "cell_type": "code",
   "execution_count": 14,
   "metadata": {},
   "outputs": [],
   "source": [
    "#lets drop less corr datas\n",
    "#rows dropped #1\n",
    "#rows=['water-project-cost-sharing','immigration']\n",
    "rows=[]\n",
    "for r in rows:\n",
    "    voting_data.drop(r,axis=1,inplace=True)\n",
    "\n"
   ]
  },
  {
   "cell_type": "code",
   "execution_count": 19,
   "metadata": {},
   "outputs": [],
   "source": [
    "feature_names =  ['party','handicapped-infants', \n",
    "                    'adoption-of-the-budget-resolution', 'physician-fee-freeze',\n",
    "                    'el-salvador-aid', 'religious-groups-in-schools',\n",
    "                    'anti-satellite-test-ban', 'aid-to-nicaraguan-contras',\n",
    "                    'mx-missle', 'synfuels-corporation-cutback',\n",
    "                    'education-spending', 'superfund-right-to-sue', 'crime',\n",
    "                    'duty-free-exports', 'export-administration-act-south-africa']"
   ]
  },
  {
   "cell_type": "code",
   "execution_count": 20,
   "metadata": {},
   "outputs": [],
   "source": [
    "all_features = voting_data[feature_names].drop('party', axis=1).values\n",
    "all_classes = voting_data['party'].values"
   ]
  },
  {
   "cell_type": "code",
   "execution_count": 23,
   "metadata": {},
   "outputs": [
    {
     "name": "stderr",
     "output_type": "stream",
     "text": [
      "C:\\Users\\Ghost\\AppData\\Local\\Temp\\ipykernel_12020\\1937348816.py:15: DeprecationWarning: KerasClassifier is deprecated, use Sci-Keras (https://github.com/adriangb/scikeras) instead. See https://www.adriangb.com/scikeras/stable/migration.html for help migrating.\n",
      "  estimator = KerasClassifier(build_fn=create_model, epochs=100, verbose=0)\n"
     ]
    },
    {
     "data": {
      "text/plain": [
       "0.9481884062290191"
      ]
     },
     "execution_count": 23,
     "metadata": {},
     "output_type": "execute_result"
    }
   ],
   "source": [
    "\n",
    "def create_model():\n",
    "    model = Sequential()\n",
    "    #16 feature inputs (votes) going into an 32-unit layer \n",
    "    model.add(Dense(32, input_dim=14, kernel_initializer='normal', activation='relu'))\n",
    "    # Another hidden layer of 16 units\n",
    "    model.add(Dense(16, kernel_initializer='normal', activation='relu'))\n",
    "    # Output layer with a binary classification (Democrat or Republican political party)\n",
    "    model.add(Dense(1, kernel_initializer='normal', activation='sigmoid'))\n",
    "    # Compile model\n",
    "    model.compile(loss='binary_crossentropy', optimizer='adam', metrics=['accuracy'])\n",
    "    return model\n",
    "\n",
    "\n",
    "# Wrap our Keras model in an estimator compatible with scikit_learn\n",
    "estimator = KerasClassifier(build_fn=create_model, epochs=100, verbose=0)\n",
    "# Now we can use scikit_learn's cross_val_score to evaluate this model identically to the others\n",
    "cv_scores = cross_val_score(estimator, all_features, all_classes, cv=10)\n",
    "cv_scores.mean()"
   ]
  },
  {
   "cell_type": "code",
   "execution_count": null,
   "metadata": {},
   "outputs": [],
   "source": []
  }
 ],
 "metadata": {
  "kernelspec": {
   "display_name": "Python 3.10.6 ('class')",
   "language": "python",
   "name": "python3"
  },
  "language_info": {
   "codemirror_mode": {
    "name": "ipython",
    "version": 3
   },
   "file_extension": ".py",
   "mimetype": "text/x-python",
   "name": "python",
   "nbconvert_exporter": "python",
   "pygments_lexer": "ipython3",
   "version": "3.10.6"
  },
  "orig_nbformat": 4,
  "vscode": {
   "interpreter": {
    "hash": "2ab26ebc9eac352ad84074c5872f53e9ff2d0f751ba36ba2a556974c64f5628d"
   }
  }
 },
 "nbformat": 4,
 "nbformat_minor": 2
}
