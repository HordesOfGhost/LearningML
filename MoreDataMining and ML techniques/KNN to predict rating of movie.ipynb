{
 "cells": [
  {
   "cell_type": "code",
   "execution_count": 3,
   "metadata": {},
   "outputs": [
    {
     "name": "stdout",
     "output_type": "stream",
     "text": [
      "   user_id  movie_id  rating\n",
      "0        0        50       5\n",
      "1        0       172       5\n",
      "2        0       133       1\n",
      "3      196       242       3\n",
      "4      186       302       3\n"
     ]
    }
   ],
   "source": [
    "#loading up every rating in data set to Pandas DataFrame\n",
    "import pandas as pd\n",
    "from sklearn import neighbors\n",
    "\n",
    "r_cols=['user_id','movie_id','rating']\n",
    "ratings=pd.read_csv(\"C:\\\\Users\\\\Ghost\\\\Desktop\\\\LearningML\\\\materials\\\\ml-100k\\\\u_data.data\",sep='\\t',names=r_cols,usecols=range(3),encoding=\"latin-1\")\n",
    "\n",
    "print(ratings.head())"
   ]
  },
  {
   "cell_type": "code",
   "execution_count": 4,
   "metadata": {},
   "outputs": [
    {
     "name": "stdout",
     "output_type": "stream",
     "text": [
      "         rating          \n",
      "           size      mean\n",
      "movie_id                 \n",
      "1           452  3.878319\n",
      "2           131  3.206107\n",
      "3            90  3.033333\n",
      "4           209  3.550239\n",
      "5            86  3.302326\n"
     ]
    }
   ],
   "source": [
    "#now we will group everything by MovieID and compute the total number of ratings(each movie's popularity) and the avg of every movie\n",
    "import numpy as np\n",
    "movieProperties=ratings.groupby('movie_id').agg({'rating':[np.size,np.mean]})\n",
    "print(movieProperties.head())"
   ]
  },
  {
   "cell_type": "code",
   "execution_count": 5,
   "metadata": {},
   "outputs": [
    {
     "name": "stdout",
     "output_type": "stream",
     "text": [
      "              size\n",
      "movie_id          \n",
      "1         0.773585\n",
      "2         0.222985\n",
      "3         0.152659\n",
      "4         0.356775\n",
      "5         0.145798\n"
     ]
    }
   ],
   "source": [
    "#normalize the number of ratings for a movie 0 being noone rating it and 1 being mostly rated\n",
    "movieNumRatings=pd.DataFrame(movieProperties['rating']['size'])\n",
    "movieNormalizedNumRatings=movieNumRatings.apply(lambda x:((x-np.min(x))/(np.max(x)-np.min(x))))\n",
    "print(movieNormalizedNumRatings.head())"
   ]
  },
  {
   "cell_type": "code",
   "execution_count": 6,
   "metadata": {},
   "outputs": [],
   "source": [
    "#now lets gather genre information\n",
    "movieDict={}\n",
    "\n",
    "with open(r\"C:\\\\Users\\\\Ghost\\\\Desktop\\\\LearningML\\\\materials\\\\ml-100k\\\\u_item.item\") as f:\n",
    "    temp =''\n",
    "    for line in f:\n",
    "        fields=line.rstrip('\\n').split('|')\n",
    "        movieID=int(fields[0])\n",
    "        name=fields[1]\n",
    "        genres=fields[5:25]\n",
    "        genres = [eval(i) for i in genres]\n",
    "        #genres=map(int,genres)\n",
    "        \n",
    "        movieDict[movieID]=(name,genres,movieNormalizedNumRatings.loc[movieID].get('size'),movieProperties.loc[movieID].rating)\n",
    "        "
   ]
  },
  {
   "cell_type": "code",
   "execution_count": 7,
   "metadata": {},
   "outputs": [
    {
     "name": "stdout",
     "output_type": "stream",
     "text": [
      "('GoldenEye (1995)', [0, 1, 1, 0, 0, 0, 0, 0, 0, 0, 0, 0, 0, 0, 0, 0, 1, 0, 0], 0.22298456260720412, size    131.000000\n",
      "mean      3.206107\n",
      "Name: 2, dtype: float64)\n",
      "('Toy Story (1995)', [0, 0, 0, 1, 1, 1, 0, 0, 0, 0, 0, 0, 0, 0, 0, 0, 0, 0, 0], 0.7735849056603774, size    452.000000\n",
      "mean      3.878319\n",
      "Name: 1, dtype: float64)\n"
     ]
    }
   ],
   "source": [
    "movieDict\n",
    "print(movieDict[2])\n",
    "print(movieDict[1])"
   ]
  },
  {
   "cell_type": "code",
   "execution_count": 8,
   "metadata": {},
   "outputs": [
    {
     "name": "stdout",
     "output_type": "stream",
     "text": [
      "0.8004574042309892\n"
     ]
    }
   ],
   "source": [
    "#lets define a function that computes distance between two movies based on how similar genres are\n",
    "#greater the distance the less similar they are\n",
    "from scipy import spatial\n",
    "\n",
    "def ComputeDistance(a,b):\n",
    "    genresA=a[1]\n",
    "    genresB=b[1]\n",
    "    genreDistance=spatial.distance.cosine(genresA,genresB)\n",
    "    popularityA=a[2]\n",
    "    popularityB=b[2]\n",
    "    popularityDistance=abs(popularityA-popularityB)\n",
    "    return genreDistance+popularityDistance\n",
    "print(ComputeDistance(movieDict[2],movieDict[4]))\n"
   ]
  },
  {
   "cell_type": "code",
   "execution_count": 9,
   "metadata": {},
   "outputs": [
    {
     "name": "stdout",
     "output_type": "stream",
     "text": [
      "('Richard III (1995)', [0, 0, 0, 0, 0, 0, 0, 0, 1, 0, 0, 0, 0, 0, 0, 0, 0, 1, 0], 0.1509433962264151, size    89.000000\n",
      "mean     3.831461\n",
      "Name: 10, dtype: float64)\n",
      "Michael Collins (1996) size    92.000000\n",
      "mean     3.456522\n",
      "Name: 744, dtype: float64\n",
      "Ran (1985) size    70.0\n",
      "mean     4.1\n",
      "Name: 647, dtype: float64\n",
      "Deer Hunter, The (1978) size    120.000000\n",
      "mean      3.833333\n",
      "Name: 521, dtype: float64\n",
      "Killing Fields, The (1984) size    121.000000\n",
      "mean      4.132231\n",
      "Name: 528, dtype: float64\n",
      "Henry V (1989) size    124.000000\n",
      "mean      4.137097\n",
      "Name: 190, dtype: float64\n",
      "Platoon (1986) size    127.000000\n",
      "mean      3.692913\n",
      "Name: 157, dtype: float64\n",
      "Patton (1970) size    136.000000\n",
      "mean      3.992647\n",
      "Name: 205, dtype: float64\n",
      "Paths of Glory (1957) size    33.000000\n",
      "mean     4.212121\n",
      "Name: 641, dtype: float64\n",
      "Seven Years in Tibet (1997) size    155.000000\n",
      "mean      3.458065\n",
      "Name: 690, dtype: float64\n",
      "Welcome To Sarajevo (1997) size    22.000000\n",
      "mean     3.363636\n",
      "Name: 1176, dtype: float64\n"
     ]
    }
   ],
   "source": [
    "import operator\n",
    "\n",
    "def getNeighbors(movieID,K):\n",
    "    distances=[]\n",
    "    for movie in movieDict:\n",
    "        if(movie!=movieID):\n",
    "            dist=ComputeDistance(movieDict[movieID],movieDict[movie])\n",
    "            distances.append((movie,dist))\n",
    "    distances.sort(key=operator.itemgetter(1))\n",
    "    neighbors=[]\n",
    "    for x in range(K):\n",
    "        neighbors.append(distances[x][0])\n",
    "    return neighbors\n",
    "K=10\n",
    "avgRating=0\n",
    "print(movieDict[10])\n",
    "neighbors=getNeighbors(10,K)\n",
    "for neighbor in neighbors:\n",
    "    avgRating += movieDict[neighbor][3]\n",
    "    print (movieDict[neighbor][0]+\" \"+str(movieDict[neighbor][3])) \n",
    "avgRating /= float(K)"
   ]
  },
  {
   "cell_type": "code",
   "execution_count": 10,
   "metadata": {},
   "outputs": [
    {
     "name": "stdout",
     "output_type": "stream",
     "text": [
      "size    100.000000\n",
      "mean      3.837857\n",
      "Name: 744, dtype: float64\n",
      "('Richard III (1995)', [0, 0, 0, 0, 0, 0, 0, 0, 1, 0, 0, 0, 0, 0, 0, 0, 0, 1, 0], 0.1509433962264151, size    89.000000\n",
      "mean     3.831461\n",
      "Name: 10, dtype: float64)\n"
     ]
    }
   ],
   "source": [
    "print(avgRating)\n",
    "print(movieDict[10])"
   ]
  },
  {
   "cell_type": "code",
   "execution_count": null,
   "metadata": {},
   "outputs": [],
   "source": []
  }
 ],
 "metadata": {
  "kernelspec": {
   "display_name": "Python 3.10.6 ('class')",
   "language": "python",
   "name": "python3"
  },
  "language_info": {
   "codemirror_mode": {
    "name": "ipython",
    "version": 3
   },
   "file_extension": ".py",
   "mimetype": "text/x-python",
   "name": "python",
   "nbconvert_exporter": "python",
   "pygments_lexer": "ipython3",
   "version": "3.10.6"
  },
  "orig_nbformat": 4,
  "vscode": {
   "interpreter": {
    "hash": "2ab26ebc9eac352ad84074c5872f53e9ff2d0f751ba36ba2a556974c64f5628d"
   }
  }
 },
 "nbformat": 4,
 "nbformat_minor": 2
}
