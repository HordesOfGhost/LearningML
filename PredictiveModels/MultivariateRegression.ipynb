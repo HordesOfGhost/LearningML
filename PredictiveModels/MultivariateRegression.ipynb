{
 "cells": [
  {
   "cell_type": "code",
   "execution_count": 2,
   "metadata": {},
   "outputs": [
    {
     "name": "stdout",
     "output_type": "stream",
     "text": [
      "          Price  Mileage   Make    Model      Trim   Type  Cylinder  Liter  \\\n",
      "0  17314.103129     8221  Buick  Century  Sedan 4D  Sedan         6    3.1   \n",
      "1  17542.036083     9135  Buick  Century  Sedan 4D  Sedan         6    3.1   \n",
      "2  16218.847862    13196  Buick  Century  Sedan 4D  Sedan         6    3.1   \n",
      "3  16336.913140    16342  Buick  Century  Sedan 4D  Sedan         6    3.1   \n",
      "4  16339.170324    19832  Buick  Century  Sedan 4D  Sedan         6    3.1   \n",
      "\n",
      "   Doors  Cruise  Sound  Leather  \n",
      "0      4       1      1        1  \n",
      "1      4       1      1        0  \n",
      "2      4       1      1        0  \n",
      "3      4       1      0        0  \n",
      "4      4       1      0        1  \n"
     ]
    }
   ],
   "source": [
    "import pandas as pd\n",
    "df=pd.read_excel('http://cdn.sundog-soft.com/Udemy/DataScience/cars.xls')\n",
    "print(df.head())"
   ]
  },
  {
   "cell_type": "code",
   "execution_count": 5,
   "metadata": {},
   "outputs": [
    {
     "name": "stdout",
     "output_type": "stream",
     "text": [
      "---Summarry---\n",
      "                                 OLS Regression Results                                \n",
      "=======================================================================================\n",
      "Dep. Variable:                  Price   R-squared (uncentered):                   0.064\n",
      "Model:                            OLS   Adj. R-squared (uncentered):              0.060\n",
      "Method:                 Least Squares   F-statistic:                              18.11\n",
      "Date:                Fri, 14 Oct 2022   Prob (F-statistic):                    2.23e-11\n",
      "Time:                        17:15:20   Log-Likelihood:                         -9207.1\n",
      "No. Observations:                 804   AIC:                                  1.842e+04\n",
      "Df Residuals:                     801   BIC:                                  1.843e+04\n",
      "Df Model:                           3                                                  \n",
      "Covariance Type:            nonrobust                                                  \n",
      "==============================================================================\n",
      "                 coef    std err          t      P>|t|      [0.025      0.975]\n",
      "------------------------------------------------------------------------------\n",
      "Mileage    -1272.3412    804.623     -1.581      0.114   -2851.759     307.077\n",
      "Cylinder    5587.4472    804.509      6.945      0.000    4008.252    7166.642\n",
      "Doors      -1404.5513    804.275     -1.746      0.081   -2983.288     174.185\n",
      "==============================================================================\n",
      "Omnibus:                      157.913   Durbin-Watson:                   0.008\n",
      "Prob(Omnibus):                  0.000   Jarque-Bera (JB):              257.529\n",
      "Skew:                           1.278   Prob(JB):                     1.20e-56\n",
      "Kurtosis:                       4.074   Cond. No.                         1.03\n",
      "==============================================================================\n",
      "\n",
      "Notes:\n",
      "[1] R² is computed without centering (uncentered) since the model does not contain a constant.\n",
      "[2] Standard Errors assume that the covariance matrix of the errors is correctly specified.\n"
     ]
    },
    {
     "name": "stderr",
     "output_type": "stream",
     "text": [
      "C:\\Users\\Ghost\\AppData\\Local\\Temp\\ipykernel_17900\\2248307897.py:7: SettingWithCopyWarning: \n",
      "A value is trying to be set on a copy of a slice from a DataFrame.\n",
      "Try using .loc[row_indexer,col_indexer] = value instead\n",
      "\n",
      "See the caveats in the documentation: https://pandas.pydata.org/pandas-docs/stable/user_guide/indexing.html#returning-a-view-versus-a-copy\n",
      "  x[['Mileage','Cylinder','Doors']]=scale.fit_transform(x[['Mileage','Cylinder','Doors']].values)\n"
     ]
    }
   ],
   "source": [
    "import statsmodels.api as sm\n",
    "from sklearn.preprocessing import StandardScaler\n",
    "scale=StandardScaler()\n",
    "\n",
    "x=df[['Mileage','Cylinder','Doors']]\n",
    "y=df['Price']\n",
    "x[['Mileage','Cylinder','Doors']]=scale.fit_transform(x[['Mileage','Cylinder','Doors']].values)\n",
    "#print(x)\n",
    "est=sm.OLS(y,x).fit()\n",
    "print(\"---Summarry---\")\n",
    "print(est.summary())"
   ]
  },
  {
   "cell_type": "code",
   "execution_count": 6,
   "metadata": {},
   "outputs": [
    {
     "data": {
      "text/plain": [
       "Mileage\n",
       "266      10813.343521\n",
       "583      70755.466717\n",
       "636      25948.962594\n",
       "788      48310.329545\n",
       "865      16116.843916\n",
       "             ...     \n",
       "41566    15792.831437\n",
       "41829    32537.186751\n",
       "42691    52001.994379\n",
       "48991    28777.959695\n",
       "50387    22244.876553\n",
       "Name: Price, Length: 791, dtype: float64"
      ]
     },
     "execution_count": 6,
     "metadata": {},
     "output_type": "execute_result"
    }
   ],
   "source": [
    "y.groupby(df.Doors).mean()\n",
    "y.groupby(df.Cylinder).mean()\n",
    "y.groupby(df.Mileage).mean()\n",
    " "
   ]
  },
  {
   "cell_type": "code",
   "execution_count": null,
   "metadata": {},
   "outputs": [],
   "source": []
  }
 ],
 "metadata": {
  "kernelspec": {
   "display_name": "Python 3.10.6 ('class')",
   "language": "python",
   "name": "python3"
  },
  "language_info": {
   "codemirror_mode": {
    "name": "ipython",
    "version": 3
   },
   "file_extension": ".py",
   "mimetype": "text/x-python",
   "name": "python",
   "nbconvert_exporter": "python",
   "pygments_lexer": "ipython3",
   "version": "3.10.6"
  },
  "orig_nbformat": 4,
  "vscode": {
   "interpreter": {
    "hash": "2ab26ebc9eac352ad84074c5872f53e9ff2d0f751ba36ba2a556974c64f5628d"
   }
  }
 },
 "nbformat": 4,
 "nbformat_minor": 2
}
